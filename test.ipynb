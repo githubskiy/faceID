{
 "cells": [
  {
   "cell_type": "code",
   "execution_count": 4,
   "metadata": {},
   "outputs": [
    {
     "name": "stdout",
     "output_type": "stream",
     "text": [
      "numpy query_embedding:  [[ 1.      4.54   64.67    8.3432  7.      9.433   6.2313  6.    ]]\n",
      "normalized query_embedding:  [[0.01492996 0.06778204 0.9655207  0.12456366 0.10450974 0.14083433\n",
      "  0.09303308 0.08957978]]\n",
      "reshape query_embedding:  [[0.01492996 0.06778204 0.9655207  0.12456366 0.10450974 0.14083433\n",
      "  0.09303308 0.08957978]]\n"
     ]
    }
   ],
   "source": [
    "import numpy as np\n",
    "\n",
    "embedding = [1 ,4.54, 64.67, 8.3432, 7, 9.433, 6.2313, 6 ]\n",
    "\n",
    "query_embedding = np.array([embedding], dtype=np.float32)\n",
    "print(\"numpy query_embedding: \", query_embedding)\n",
    "        \n",
    "query_embedding /= np.linalg.norm(query_embedding) \n",
    "print(\"normalized query_embedding: \", query_embedding)\n",
    "query_embedding.reshape(1, -1)\n",
    "print(\"reshape query_embedding: \", query_embedding)"
   ]
  },
  {
   "cell_type": "code",
   "execution_count": 8,
   "metadata": {},
   "outputs": [
    {
     "name": "stdout",
     "output_type": "stream",
     "text": [
      "2023-03-04 15:31:39.094176.jpeg\n"
     ]
    }
   ],
   "source": [
    "from datetime import datetime\n",
    "\n",
    "rando = str(datetime.now())\n",
    "\n",
    "path = f'data/image{rando}.jpeg'\n",
    "\n",
    "print(path[10:])"
   ]
  },
  {
   "cell_type": "code",
   "execution_count": 13,
   "metadata": {},
   "outputs": [
    {
     "data": {
      "text/plain": [
       "'data/test/image2023-03-02 17:53:42.530784.jpeg'"
      ]
     },
     "execution_count": 13,
     "metadata": {},
     "output_type": "execute_result"
    }
   ],
   "source": [
    "import shutil\n",
    "import os\n",
    "\n",
    "# Path to the image file to move\n",
    "image_path = \"data/image2023-03-02 17:53:42.530784.jpeg\"\n",
    "\n",
    "# Path to the destination folder\n",
    "destination_folder = \"data/test\"\n",
    "\n",
    "# Create the destination folder if it doesn't exist\n",
    "if not os.path.exists(destination_folder):\n",
    "    os.makedirs(destination_folder)\n",
    "\n",
    "# Move the image file to the destination folder\n",
    "shutil.move(image_path, destination_folder)"
   ]
  }
 ],
 "metadata": {
  "kernelspec": {
   "display_name": "venv",
   "language": "python",
   "name": "python3"
  },
  "language_info": {
   "codemirror_mode": {
    "name": "ipython",
    "version": 3
   },
   "file_extension": ".py",
   "mimetype": "text/x-python",
   "name": "python",
   "nbconvert_exporter": "python",
   "pygments_lexer": "ipython3",
   "version": "3.10.9"
  },
  "orig_nbformat": 4,
  "vscode": {
   "interpreter": {
    "hash": "590c70ee0fc568e736b59f59752dac0dc8eec2f76902039a14655885fec7583c"
   }
  }
 },
 "nbformat": 4,
 "nbformat_minor": 2
}
